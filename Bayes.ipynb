{
 "cells": [
  {
   "cell_type": "markdown",
   "metadata": {},
   "source": [
    "# 提取数据\n",
    "第一列是评分1～5\\\n",
    "第二列是评论标题\\\n",
    "第三列是评论正文"
   ]
  },
  {
   "cell_type": "code",
   "execution_count": 8,
   "metadata": {},
   "outputs": [
    {
     "data": {
      "text/html": [
       "<div>\n",
       "<style scoped>\n",
       "    .dataframe tbody tr th:only-of-type {\n",
       "        vertical-align: middle;\n",
       "    }\n",
       "\n",
       "    .dataframe tbody tr th {\n",
       "        vertical-align: top;\n",
       "    }\n",
       "\n",
       "    .dataframe thead th {\n",
       "        text-align: right;\n",
       "    }\n",
       "</style>\n",
       "<table border=\"1\" class=\"dataframe\">\n",
       "  <thead>\n",
       "    <tr style=\"text-align: right;\">\n",
       "      <th></th>\n",
       "      <th>0</th>\n",
       "      <th>1</th>\n",
       "      <th>2</th>\n",
       "    </tr>\n",
       "  </thead>\n",
       "  <tbody>\n",
       "    <tr>\n",
       "      <th>0</th>\n",
       "      <td>1</td>\n",
       "      <td>mens ultrasheer</td>\n",
       "      <td>This model may be ok for sedentary types, but ...</td>\n",
       "    </tr>\n",
       "    <tr>\n",
       "      <th>1</th>\n",
       "      <td>4</td>\n",
       "      <td>Surprisingly delightful</td>\n",
       "      <td>This is a fast read filled with unexpected hum...</td>\n",
       "    </tr>\n",
       "    <tr>\n",
       "      <th>2</th>\n",
       "      <td>2</td>\n",
       "      <td>Works, but not as advertised</td>\n",
       "      <td>I bought one of these chargers..the instructio...</td>\n",
       "    </tr>\n",
       "    <tr>\n",
       "      <th>3</th>\n",
       "      <td>2</td>\n",
       "      <td>Oh dear</td>\n",
       "      <td>I was excited to find a book ostensibly about ...</td>\n",
       "    </tr>\n",
       "    <tr>\n",
       "      <th>4</th>\n",
       "      <td>2</td>\n",
       "      <td>Incorrect disc!</td>\n",
       "      <td>I am a big JVC fan, but I do not like this mod...</td>\n",
       "    </tr>\n",
       "  </tbody>\n",
       "</table>\n",
       "</div>"
      ],
      "text/plain": [
       "   0                             1  \\\n",
       "0  1               mens ultrasheer   \n",
       "1  4       Surprisingly delightful   \n",
       "2  2  Works, but not as advertised   \n",
       "3  2                       Oh dear   \n",
       "4  2               Incorrect disc!   \n",
       "\n",
       "                                                   2  \n",
       "0  This model may be ok for sedentary types, but ...  \n",
       "1  This is a fast read filled with unexpected hum...  \n",
       "2  I bought one of these chargers..the instructio...  \n",
       "3  I was excited to find a book ostensibly about ...  \n",
       "4  I am a big JVC fan, but I do not like this mod...  "
      ]
     },
     "execution_count": 8,
     "metadata": {},
     "output_type": "execute_result"
    }
   ],
   "source": [
    "import pandas as pd\n",
    "from collections import Counter\n",
    "from tqdm import tqdm\n",
    "test = pd.read_csv('test.csv',header=None)\n",
    "test.head()"
   ]
  },
  {
   "cell_type": "code",
   "execution_count": 9,
   "metadata": {},
   "outputs": [
    {
     "data": {
      "text/html": [
       "<div>\n",
       "<style scoped>\n",
       "    .dataframe tbody tr th:only-of-type {\n",
       "        vertical-align: middle;\n",
       "    }\n",
       "\n",
       "    .dataframe tbody tr th {\n",
       "        vertical-align: top;\n",
       "    }\n",
       "\n",
       "    .dataframe thead th {\n",
       "        text-align: right;\n",
       "    }\n",
       "</style>\n",
       "<table border=\"1\" class=\"dataframe\">\n",
       "  <thead>\n",
       "    <tr style=\"text-align: right;\">\n",
       "      <th></th>\n",
       "      <th>0</th>\n",
       "      <th>1</th>\n",
       "      <th>2</th>\n",
       "    </tr>\n",
       "  </thead>\n",
       "  <tbody>\n",
       "    <tr>\n",
       "      <th>0</th>\n",
       "      <td>3</td>\n",
       "      <td>more like funchuck</td>\n",
       "      <td>Gave this to my dad for a gag gift after direc...</td>\n",
       "    </tr>\n",
       "    <tr>\n",
       "      <th>1</th>\n",
       "      <td>5</td>\n",
       "      <td>Inspiring</td>\n",
       "      <td>I hope a lot of people hear this cd. We need m...</td>\n",
       "    </tr>\n",
       "    <tr>\n",
       "      <th>2</th>\n",
       "      <td>5</td>\n",
       "      <td>The best soundtrack ever to anything.</td>\n",
       "      <td>I'm reading a lot of reviews saying that this ...</td>\n",
       "    </tr>\n",
       "    <tr>\n",
       "      <th>3</th>\n",
       "      <td>4</td>\n",
       "      <td>Chrono Cross OST</td>\n",
       "      <td>The music of Yasunori Misuda is without questi...</td>\n",
       "    </tr>\n",
       "    <tr>\n",
       "      <th>4</th>\n",
       "      <td>5</td>\n",
       "      <td>Too good to be true</td>\n",
       "      <td>Probably the greatest soundtrack in history! U...</td>\n",
       "    </tr>\n",
       "  </tbody>\n",
       "</table>\n",
       "</div>"
      ],
      "text/plain": [
       "   0                                      1  \\\n",
       "0  3                     more like funchuck   \n",
       "1  5                              Inspiring   \n",
       "2  5  The best soundtrack ever to anything.   \n",
       "3  4                       Chrono Cross OST   \n",
       "4  5                    Too good to be true   \n",
       "\n",
       "                                                   2  \n",
       "0  Gave this to my dad for a gag gift after direc...  \n",
       "1  I hope a lot of people hear this cd. We need m...  \n",
       "2  I'm reading a lot of reviews saying that this ...  \n",
       "3  The music of Yasunori Misuda is without questi...  \n",
       "4  Probably the greatest soundtrack in history! U...  "
      ]
     },
     "execution_count": 9,
     "metadata": {},
     "output_type": "execute_result"
    }
   ],
   "source": [
    "train = pd.read_csv('train.csv',header=None)\n",
    "train.head()"
   ]
  },
  {
   "cell_type": "markdown",
   "metadata": {},
   "source": [
    "## 查看数据"
   ]
  },
  {
   "cell_type": "code",
   "execution_count": 10,
   "metadata": {},
   "outputs": [
    {
     "name": "stdout",
     "output_type": "stream",
     "text": [
      "size of test data is  650000\n",
      "the score of: \" This is a fast read filled with unexpected humour and profound insights into the art of politics and policy. In brief, it is sly, wry, and wise. \"is  4\n"
     ]
    }
   ],
   "source": [
    "import numpy as np\n",
    "test_data=test[2]\n",
    "test_label=test[0]\n",
    "print('size of test data is ',len(test_data))\n",
    "print('the score of: \"',test_data[1],'\"is ',test_label[1])"
   ]
  },
  {
   "cell_type": "code",
   "execution_count": 11,
   "metadata": {},
   "outputs": [
    {
     "name": "stdout",
     "output_type": "stream",
     "text": [
      "size of train data is  3000000\n",
      "the score of: \" Gave this to my dad for a gag gift after directing \"Nunsense,\" he got a reall kick out of it! \"is  3\n"
     ]
    }
   ],
   "source": [
    "train_data=train[2]\n",
    "train_label=train[0]\n",
    "print('size of train data is ',len(train_data))\n",
    "print('the score of: \"',train_data.iloc[0],'\"is ',train_label.iloc[0])"
   ]
  },
  {
   "cell_type": "markdown",
   "metadata": {},
   "source": [
    "# Naive Bayes\n",
    "\n",
    "## 清洗数据\n",
    "只保留单词；将字母处理为小写；删掉停用词；"
   ]
  },
  {
   "cell_type": "code",
   "execution_count": 12,
   "metadata": {},
   "outputs": [
    {
     "name": "stdout",
     "output_type": "stream",
     "text": [
      "Before processing:  Gave this to my dad for a gag gift after directing \"Nunsense,\" he got a reall kick out of it!\n",
      "After processing:  gave dad gag gift directing nunsense got reall kick\n"
     ]
    }
   ],
   "source": [
    "import re\n",
    "import nltk\n",
    "from nltk.corpus import stopwords\n",
    "# nltk.download('stopwords')\n",
    "def cleanText(raw_text,remove_stopwords=True,sentences=False):\n",
    "    letters_only = re.sub(\"[^a-zA-Z]\", \" \", raw_text)\n",
    "    text=letters_only.lower().split()\n",
    "    if remove_stopwords:\n",
    "        stops = set(stopwords.words(\"english\"))\n",
    "        text = [w for w in text if not w in stops]\n",
    "    if sentences:\n",
    "        return \" \".join(text)\n",
    "    else:\n",
    "        return text\n",
    "text=cleanText(train_data.iloc[0],sentences=True)\n",
    "print(\"Before processing: \",train_data.iloc[0])\n",
    "print(\"After processing: \",text)"
   ]
  },
  {
   "cell_type": "markdown",
   "metadata": {},
   "source": [
    "## 重采样取部分数据实验"
   ]
  },
  {
   "cell_type": "code",
   "execution_count": 86,
   "metadata": {},
   "outputs": [
    {
     "data": {
      "text/plain": [
       "50000"
      ]
     },
     "execution_count": 86,
     "metadata": {},
     "output_type": "execute_result"
    }
   ],
   "source": [
    "import numpy as np\n",
    "t_data,t_label=[],[]\n",
    "for i in range(50000):\n",
    "    idx=np.random.randint(len(train_data))\n",
    "    t_data.append(train_data[idx])\n",
    "    t_label.append(train_label[idx])\n",
    "\n",
    "test,label=[],[]\n",
    "for i in range(2000):\n",
    "    idx=np.random.randint(len(test_data))\n",
    "    test.append(test_data[idx])\n",
    "    label.append(test_label[idx])\n",
    "\n",
    "len(t_label)"
   ]
  },
  {
   "cell_type": "code",
   "execution_count": 87,
   "metadata": {},
   "outputs": [
    {
     "name": "stderr",
     "output_type": "stream",
     "text": [
      "100%|██████████| 50000/50000 [00:09<00:00, 5172.02it/s]\n",
      "100%|██████████| 2000/2000 [00:00<00:00, 5868.32it/s]\n"
     ]
    }
   ],
   "source": [
    "train_clean,test_clean=[],[]\n",
    "for i in tqdm(range(len(t_data))):\n",
    "    train_clean.append(cleanText(t_data[i],remove_stopwords=True,sentences=True))\n",
    "for i in tqdm(range(len(test))):\n",
    "    test_clean.append(cleanText(test[i],remove_stopwords=True,sentences=True))"
   ]
  },
  {
   "cell_type": "code",
   "execution_count": 88,
   "metadata": {},
   "outputs": [],
   "source": [
    "# import pickle\n",
    "# with open('cleanedData.pickle','wb') as f:\n",
    "#     pickle.dump(train_clean,f)\n",
    "#     pickle.dump(test_clean,f)"
   ]
  },
  {
   "cell_type": "code",
   "execution_count": 89,
   "metadata": {},
   "outputs": [],
   "source": [
    "# with open('cleanedData.pickle','rb') as f:\n",
    "#     train_clean=pickle.load(f)\n",
    "#     test_clean=pickle.load(f)"
   ]
  },
  {
   "cell_type": "code",
   "execution_count": 90,
   "metadata": {},
   "outputs": [
    {
     "name": "stdout",
     "output_type": "stream",
     "text": [
      "primarily enjoy war movies provide factual recounts events persons covered film war movies sake war movie movie battle bulge provide much anything historic uses historic event tell hollywood istic story great actors film though simple opinon provide redeeming value film like action wwii war movies probably enjoy excpect semblance history film likely impress much sure would nice hollywood battle bulge tora tora tora fashion basis judging war movies\n",
      "3\n"
     ]
    }
   ],
   "source": [
    "print(train_clean[0])\n",
    "print(train_label[0])"
   ]
  },
  {
   "cell_type": "markdown",
   "metadata": {},
   "source": [
    "## 使用sklearn的CountVectorizer得到语料库\n",
    "\n",
    "也可以自己生成语料库，比如在train text中出现cutoff次以上的词语放入语料库"
   ]
  },
  {
   "cell_type": "markdown",
   "metadata": {},
   "source": [
    "## 出现次数在5次以上的词汇加入语料库"
   ]
  },
  {
   "cell_type": "code",
   "execution_count": 91,
   "metadata": {
    "scrolled": true
   },
   "outputs": [],
   "source": [
    "from sklearn.feature_extraction.text import CountVectorizer, TfidfVectorizer\n",
    "countVect = CountVectorizer(min_df=5) \n",
    "train_vec = countVect.fit_transform(train_clean)"
   ]
  },
  {
   "cell_type": "code",
   "execution_count": 92,
   "metadata": {},
   "outputs": [
    {
     "name": "stdout",
     "output_type": "stream",
     "text": [
      "Number of features : 19239 \n",
      "\n",
      "part of words in Corpus:  ['aa', 'aaa', 'aaliyah', 'aaron', 'ab', 'abandon', 'abandoned', 'abandoning', 'abba', 'abbey']\n"
     ]
    }
   ],
   "source": [
    "print(\"Number of features : %d \\n\" %len(countVect.get_feature_names())) \n",
    "corpus=list(countVect.get_feature_names())\n",
    "print(\"part of words in Corpus: \",corpus[:10])"
   ]
  },
  {
   "cell_type": "markdown",
   "metadata": {},
   "source": [
    "## 计算某review里的词汇在词汇表中出现的次数\n",
    "\n",
    "### 如果在文档中出现但没有在词汇表中出现用none代替"
   ]
  },
  {
   "cell_type": "code",
   "execution_count": 93,
   "metadata": {},
   "outputs": [],
   "source": [
    "def create_bow(corpus, review):\n",
    "    \"\"\"\n",
    "    return: {'a': 2, None: 3, '.': 1}\n",
    "    \"\"\"\n",
    "    word=Counter(review.split())\n",
    "    res={}\n",
    "    for w in word:\n",
    "        if w in corpus:\n",
    "            res[w]=word[w]\n",
    "        else:\n",
    "            if not 'None' in res:\n",
    "                res['None']=word[w]\n",
    "            else:\n",
    "                res['None']+=word[w]\n",
    "    return res"
   ]
  },
  {
   "cell_type": "code",
   "execution_count": 94,
   "metadata": {},
   "outputs": [
    {
     "name": "stdout",
     "output_type": "stream",
     "text": [
      "{'primarily': 1, 'enjoy': 2, 'war': 5, 'movies': 4, 'provide': 3, 'factual': 1, 'recounts': 1, 'events': 1, 'persons': 1, 'covered': 1, 'film': 4, 'sake': 1, 'movie': 2, 'battle': 2, 'bulge': 2, 'much': 2, 'anything': 1, 'historic': 2, 'uses': 1, 'event': 1, 'tell': 1, 'hollywood': 2, 'None': 2, 'story': 1, 'great': 1, 'actors': 1, 'though': 1, 'simple': 1, 'opinon': 1, 'redeeming': 1, 'value': 1, 'like': 1, 'action': 1, 'wwii': 1, 'probably': 1, 'semblance': 1, 'history': 1, 'likely': 1, 'impress': 1, 'sure': 1, 'would': 1, 'nice': 1, 'tora': 3, 'fashion': 1, 'basis': 1, 'judging': 1}\n"
     ]
    }
   ],
   "source": [
    "print(create_bow(corpus, train_clean[0]))"
   ]
  },
  {
   "cell_type": "markdown",
   "metadata": {},
   "source": [
    "## 整合所有训练数据的词袋"
   ]
  },
  {
   "cell_type": "code",
   "execution_count": 95,
   "metadata": {},
   "outputs": [],
   "source": [
    "\n",
    "def load_training_data(corpus, train_clean, train_label):\n",
    "    \"\"\"\n",
    "    return:\n",
    "    [{'label': 1, 'bow': {'it': 1, 'is': 1, 'february': 1, '19': 1, ',': 1, '2020': 1, '.': 1}},\n",
    "    {'label':  2, 'bow': {'hello': 1, 'world': 1, 'None':2 }},\n",
    "    {'label':  3, 'bow': {'a': 2, 'dog': 1, 'chases': 1, 'cat': 1, '.': 1}}]\n",
    "    \"\"\"\n",
    "    res=[]\n",
    "    for i in tqdm(range(len(train_clean))):\n",
    "        bow=create_bow(corpus, train_clean[i])\n",
    "        temp={'label':train_label[i],'bow':bow}\n",
    "        res.append(temp)\n",
    "    return res"
   ]
  },
  {
   "cell_type": "markdown",
   "metadata": {},
   "source": [
    "## 查看部分词袋数据"
   ]
  },
  {
   "cell_type": "code",
   "execution_count": 96,
   "metadata": {},
   "outputs": [
    {
     "name": "stderr",
     "output_type": "stream",
     "text": [
      "100%|██████████| 50000/50000 [04:35<00:00, 181.58it/s]\n"
     ]
    },
    {
     "data": {
      "text/plain": [
       "{'label': 2,\n",
       " 'bow': {'primarily': 1,\n",
       "  'enjoy': 2,\n",
       "  'war': 5,\n",
       "  'movies': 4,\n",
       "  'provide': 3,\n",
       "  'factual': 1,\n",
       "  'recounts': 1,\n",
       "  'events': 1,\n",
       "  'persons': 1,\n",
       "  'covered': 1,\n",
       "  'film': 4,\n",
       "  'sake': 1,\n",
       "  'movie': 2,\n",
       "  'battle': 2,\n",
       "  'bulge': 2,\n",
       "  'much': 2,\n",
       "  'anything': 1,\n",
       "  'historic': 2,\n",
       "  'uses': 1,\n",
       "  'event': 1,\n",
       "  'tell': 1,\n",
       "  'hollywood': 2,\n",
       "  'None': 2,\n",
       "  'story': 1,\n",
       "  'great': 1,\n",
       "  'actors': 1,\n",
       "  'though': 1,\n",
       "  'simple': 1,\n",
       "  'opinon': 1,\n",
       "  'redeeming': 1,\n",
       "  'value': 1,\n",
       "  'like': 1,\n",
       "  'action': 1,\n",
       "  'wwii': 1,\n",
       "  'probably': 1,\n",
       "  'semblance': 1,\n",
       "  'history': 1,\n",
       "  'likely': 1,\n",
       "  'impress': 1,\n",
       "  'sure': 1,\n",
       "  'would': 1,\n",
       "  'nice': 1,\n",
       "  'tora': 3,\n",
       "  'fashion': 1,\n",
       "  'basis': 1,\n",
       "  'judging': 1}}"
      ]
     },
     "execution_count": 96,
     "metadata": {},
     "output_type": "execute_result"
    }
   ],
   "source": [
    "bow=load_training_data(corpus, train_clean, t_label)\n",
    "bow[0]"
   ]
  },
  {
   "cell_type": "markdown",
   "metadata": {},
   "source": [
    "## 先验概率"
   ]
  },
  {
   "cell_type": "code",
   "execution_count": 97,
   "metadata": {},
   "outputs": [],
   "source": [
    "def prior(train_label):\n",
    "    # 各评分的先验概率\n",
    "    record=Counter(list(train_label))\n",
    "    print(record)\n",
    "    P={}\n",
    "    for s in record:\n",
    "        P[s]= np.log((record[s]+1)/(len(train_label)+5))\n",
    "    return P"
   ]
  },
  {
   "cell_type": "code",
   "execution_count": 98,
   "metadata": {},
   "outputs": [
    {
     "name": "stdout",
     "output_type": "stream",
     "text": [
      "Counter({3: 10056, 4: 10026, 2: 10016, 5: 10008, 1: 9894})\n"
     ]
    },
    {
     "data": {
      "text/plain": [
       "{2: -1.6078393507988522,\n",
       " 3: -1.603854090966136,\n",
       " 4: -1.6068415458866911,\n",
       " 1: -1.6200934213739504,\n",
       " 5: -1.6086383121915975}"
      ]
     },
     "execution_count": 98,
     "metadata": {},
     "output_type": "execute_result"
    }
   ],
   "source": [
    "P=prior(t_label)\n",
    "P"
   ]
  },
  {
   "cell_type": "markdown",
   "metadata": {},
   "source": [
    "## 计算每个label里的词汇在词汇表中出现的次数\n",
    "如果在文档中出现但没有在词汇表中出现用none代替"
   ]
  },
  {
   "cell_type": "code",
   "execution_count": 99,
   "metadata": {},
   "outputs": [],
   "source": [
    "def p_word_given_label(corpus,bow,score):\n",
    "    # 每个分组下每个单词出现的概率 P(word_i|y=y_k)\n",
    "    # 各个分组下词汇总数\n",
    "    res={}\n",
    "    corpus_copy=corpus[:]\n",
    "    corpus_copy.append('None')\n",
    "    \n",
    "    num_label=0\n",
    "    for sample in bow:\n",
    "        if sample['label']==score:\n",
    "            num_label+=1\n",
    "    \n",
    "    for word in corpus_copy:\n",
    "        num_word_label=0\n",
    "        for sample in bow:\n",
    "            if sample['label']==score and word in sample['bow']:\n",
    "                num_word_label+=sample['bow'][word]\n",
    "        res[word]=np.log((num_word_label+1)/(num_label+len(corpus)))\n",
    "    return res"
   ]
  },
  {
   "cell_type": "markdown",
   "metadata": {},
   "source": [
    "### 测试一个正面单词，评分高的评论中出现频率更高"
   ]
  },
  {
   "cell_type": "code",
   "execution_count": 100,
   "metadata": {},
   "outputs": [
    {
     "name": "stdout",
     "output_type": "stream",
     "text": [
      "-5.625666481104941\n",
      "-4.109746179395445\n"
     ]
    }
   ],
   "source": [
    "p_word_label1=p_word_given_label(corpus,bow,1)\n",
    "p_word_label5=p_word_given_label(corpus,bow,5)\n",
    "print(p_word_label1['perfect'])\n",
    "print(p_word_label5['perfect'])"
   ]
  },
  {
   "cell_type": "code",
   "execution_count": 101,
   "metadata": {},
   "outputs": [
    {
     "name": "stderr",
     "output_type": "stream",
     "text": [
      "100%|██████████| 5/5 [20:10<00:00, 242.16s/it]\n"
     ]
    }
   ],
   "source": [
    "wordBag={}\n",
    "for i in tqdm(range(1,6)):\n",
    "    wordBag[i]=p_word_given_label(corpus,bow,i)"
   ]
  },
  {
   "cell_type": "markdown",
   "metadata": {},
   "source": [
    "## 整合模型"
   ]
  },
  {
   "cell_type": "code",
   "execution_count": 102,
   "metadata": {},
   "outputs": [],
   "source": [
    "def NBtraining(corpus,P,wordBag):\n",
    "    \"\"\"\n",
    "     {'vocabulary': ['.', 'a'],\\\n",
    "     'log prior': {1: -0.916290731874155, 2: -0.5108256237659905,....},\\\n",
    "     'log p(w|y=1)': {'.': -1.6094379124341005, 'a': -2.302585092994046, None: -0.35667494393873267},\\\n",
    "     'log p(w|y=2)': {'.': -1.7047480922384253, 'a': -1.2992829841302609, None: -0.6061358035703157},\\\n",
    "     ......}\n",
    "    \"\"\"\n",
    "    res={}\n",
    "    res['vocabulary']=corpus\n",
    "    res['log prior']=P\n",
    "    res[1]=wordBag[1]\n",
    "    res[2]=wordBag[2]\n",
    "    res[3]=wordBag[3]\n",
    "    res[4]=wordBag[4]\n",
    "    res[5]=wordBag[5]\n",
    "    return res"
   ]
  },
  {
   "cell_type": "code",
   "execution_count": 103,
   "metadata": {},
   "outputs": [],
   "source": [
    "model=NBtraining(corpus,P,wordBag)"
   ]
  },
  {
   "cell_type": "code",
   "execution_count": 109,
   "metadata": {},
   "outputs": [],
   "source": [
    "import pickle\n",
    "with open('model50k.pickle','wb') as f:\n",
    "    pickle.dump(model,f)"
   ]
  },
  {
   "cell_type": "markdown",
   "metadata": {},
   "source": [
    "## 后验概率"
   ]
  },
  {
   "attachments": {
    "image.png": {
     "image/png": "[encoded data removed]"
    }
   },
   "cell_type": "markdown",
   "metadata": {},
   "source": [
    "![image.png](attachment:image.png)"
   ]
  },
  {
   "cell_type": "code",
   "execution_count": 104,
   "metadata": {},
   "outputs": [],
   "source": [
    "def NBclassifiar(test_clean,model):\n",
    "    pred=[]\n",
    "    for text in tqdm(test_clean):\n",
    "        text_bow=create_bow(corpus,text)\n",
    "        p={}\n",
    "        for score in range(1,6):\n",
    "            p[score]=0\n",
    "        for word in text_bow:\n",
    "            for score in range(1,6):\n",
    "                if word in model[score]:\n",
    "                    p[score]+=model[score][word]*text_bow[word]\n",
    "        for score in range(1,6):\n",
    "            p[score]+=model['log prior'][score]\n",
    "        pred.append(max(p,key=p.get))\n",
    "    return pred"
   ]
  },
  {
   "cell_type": "code",
   "execution_count": 115,
   "metadata": {
    "scrolled": true
   },
   "outputs": [
    {
     "name": "stderr",
     "output_type": "stream",
     "text": [
      "100%|██████████| 2000/2000 [00:28<00:00, 71.32it/s]\n"
     ]
    }
   ],
   "source": [
    "pred=NBclassifiar(test,model)"
   ]
  },
  {
   "cell_type": "code",
   "execution_count": 118,
   "metadata": {
    "scrolled": true
   },
   "outputs": [
    {
     "name": "stdout",
     "output_type": "stream",
     "text": [
      "预测评分:  3\n",
      "实际评分:  3\n",
      "This hoster when first opening it seemed a little tight but after playing with it seemed to loosen up a bit. I was afraid of damaging my light because of tightness but it seems to be easier everytime you use it.\n"
     ]
    }
   ],
   "source": [
    "testId=3\n",
    "print('预测评分: ',pred[testId])\n",
    "print('实际评分: ',label[testId])\n",
    "print(test[testId])"
   ]
  },
  {
   "cell_type": "code",
   "execution_count": 128,
   "metadata": {},
   "outputs": [],
   "source": [
    "def NBaccuracy(pred,label):\n",
    "    right=0\n",
    "    for p,a in zip(pred,label):\n",
    "        if p>=4 and a>=4:\n",
    "            right+=1\n",
    "        elif p<4 and a<4:\n",
    "            right+=1\n",
    "    return 100*right/len(label)"
   ]
  },
  {
   "cell_type": "code",
   "execution_count": 129,
   "metadata": {},
   "outputs": [
    {
     "name": "stdout",
     "output_type": "stream",
     "text": [
      "accuracy=  68.9 %\n"
     ]
    }
   ],
   "source": [
    "accuracy=NBaccuracy(pred,label)\n",
    "print('accuracy= ',accuracy,'%')"
   ]
  },
  {
   "cell_type": "markdown",
   "metadata": {},
   "source": [
    "## 单句测试"
   ]
  },
  {
   "cell_type": "code",
   "execution_count": 131,
   "metadata": {},
   "outputs": [
    {
     "name": "stderr",
     "output_type": "stream",
     "text": [
      "100%|██████████| 1/1 [00:00<00:00, 110.69it/s]\n"
     ]
    },
    {
     "data": {
      "text/plain": [
       "[1]"
      ]
     },
     "execution_count": 131,
     "metadata": {},
     "output_type": "execute_result"
    }
   ],
   "source": [
    "t=['ok...it doesn''t work, to be honest, it''s a piece of junk, I won''t buy it again. ']\n",
    "p=NBclassifiar(t,model)\n",
    "p"
   ]
  },
  {
   "cell_type": "markdown",
   "metadata": {},
   "source": [
    "## 使用sklearn验证"
   ]
  },
  {
   "cell_type": "code",
   "execution_count": 132,
   "metadata": {},
   "outputs": [],
   "source": [
    "# Preprocess text data in training set and validation set\n",
    "X_train_cleaned = train_clean\n",
    "X_test_cleaned = test_clean"
   ]
  },
  {
   "cell_type": "code",
   "execution_count": 134,
   "metadata": {},
   "outputs": [
    {
     "name": "stdout",
     "output_type": "stream",
     "text": [
      "Number of features : 75127 \n",
      "\n",
      "Show some feature names : \n",
      " ['zion', 'zionism', 'zionist', 'zionists', 'zip', 'ziploc', 'ziplock', 'zipped', 'zipper', 'zippered', 'zipperhead', 'zippers', 'zipping', 'zippo', 'zipporah', 'zippper', 'zips', 'ziq', 'zirconia', 'zit']\n"
     ]
    },
    {
     "data": {
      "text/plain": [
       "MultinomialNB()"
      ]
     },
     "execution_count": 134,
     "metadata": {},
     "output_type": "execute_result"
    }
   ],
   "source": [
    "from sklearn.naive_bayes import BernoulliNB, MultinomialNB\n",
    "# Fit and transform the training data to a document-term matrix using CountVectorizer\n",
    "countVect = CountVectorizer() \n",
    "X_train_countVect = countVect.fit_transform(X_train_cleaned)\n",
    "print(\"Number of features : %d \\n\" %len(countVect.get_feature_names())) \n",
    "print(\"Show some feature names : \\n\", countVect.get_feature_names()[-120:-100])\n",
    "\n",
    "\n",
    "# Train MultinomialNB classifier\n",
    "mnb = MultinomialNB()\n",
    "mnb.fit(X_train_countVect, t_label)"
   ]
  },
  {
   "cell_type": "code",
   "execution_count": 135,
   "metadata": {},
   "outputs": [],
   "source": [
    "from sklearn import metrics\n",
    "from sklearn.metrics import roc_auc_score, accuracy_score\n",
    "def modelEvaluation(predictions):\n",
    "    '''\n",
    "    Print model evaluation to predicted result \n",
    "    '''\n",
    "    print (\"\\nAccuracy on validation set: {:.4f}\".format(accuracy_score(label, predictions)))"
   ]
  },
  {
   "cell_type": "code",
   "execution_count": 136,
   "metadata": {},
   "outputs": [
    {
     "name": "stdout",
     "output_type": "stream",
     "text": [
      "accuracy=  74.35 %\n"
     ]
    }
   ],
   "source": [
    "# Evaluate the model on validaton set\n",
    "predictions = mnb.predict(countVect.transform(X_test_cleaned))\n",
    "right=0\n",
    "for i,j in zip(predictions,label):\n",
    "    if i>=4 and j>=4 or i<4 and j<4:\n",
    "        right+=1\n",
    "accuracy=100*right/len(label)\n",
    "print('accuracy= ',accuracy,'%')     "
   ]
  }
 ],
 "metadata": {
  "kernelspec": {
   "display_name": "Python 3",
   "language": "python",
   "name": "python3"
  },
  "language_info": {
   "codemirror_mode": {
    "name": "ipython",
    "version": 3
   },
   "file_extension": ".py",
   "mimetype": "text/x-python",
   "name": "python",
   "nbconvert_exporter": "python",
   "pygments_lexer": "ipython3",
   "version": "3.8.3"
  }
 },
 "nbformat": 4,
 "nbformat_minor": 4
}
